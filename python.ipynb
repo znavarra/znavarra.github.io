{
 "cells": [
  {
   "cell_type": "code",
   "execution_count": 5,
   "metadata": {
    "tags": []
   },
   "outputs": [],
   "source": [
    "import os\n",
    "os.chdir('C:/Users/Zeddrex Navarra/Desktop/Career/Trial Codes/znavarra.github.io')"
   ]
  },
  {
   "cell_type": "code",
   "execution_count": 6,
   "metadata": {},
   "outputs": [
    {
     "name": "stdout",
     "output_type": "stream",
     "text": [
      "C:\\Users\\Zeddrex Navarra\\Desktop\\Career\\Trial Codes\\znavarra.github.io\n"
     ]
    }
   ],
   "source": [
    "import os\n",
    "current_dir = os.getcwd()\n",
    "print(current_dir)"
   ]
  },
  {
   "cell_type": "code",
   "execution_count": 7,
   "metadata": {},
   "outputs": [
    {
     "name": "stdout",
     "output_type": "stream",
     "text": [
      "         DATE  PRCP  TEMP   MIN   MAX\n",
      "0  1973-01-01   0.0  82.0  77.0  84.2\n",
      "1  1973-01-02   NaN  80.3  75.2  86.0\n",
      "2  1973-01-03   NaN  78.5  71.6  84.2\n",
      "3  1973-01-04   NaN  81.1  78.8  82.4\n",
      "4  1973-01-05   NaN  81.0  78.8  84.2\n"
     ]
    }
   ],
   "source": [
    "import pyreadr\n",
    "\n",
    "# Specify the path to your RDS file\n",
    "rds_file_path = 'LEGAZPI.rds'\n",
    "\n",
    "# Use pyreadr to load the RDS file\n",
    "result = pyreadr.read_r(rds_file_path)\n",
    "\n",
    "# Extract the DataFrame from the result\n",
    "df = result[None]  # None represents the name of the object in the RDS file\n",
    "\n",
    "# Now you can work with the DataFrame 'df'\n",
    "print(df.head())  # Print the first few rows of the DataFrame\n"
   ]
  },
  {
   "cell_type": "code",
   "execution_count": 12,
   "metadata": {},
   "outputs": [
    {
     "name": "stdout",
     "output_type": "stream",
     "text": [
      "<class 'pandas.core.frame.DataFrame'>\n",
      "RangeIndex: 17340 entries, 0 to 17339\n",
      "Data columns (total 5 columns):\n",
      " #   Column  Non-Null Count  Dtype  \n",
      "---  ------  --------------  -----  \n",
      " 0   DATE    17340 non-null  object \n",
      " 1   PRCP    14968 non-null  float64\n",
      " 2   TEMP    17340 non-null  float64\n",
      " 3   MIN     17217 non-null  float64\n",
      " 4   MAX     17324 non-null  float64\n",
      "dtypes: float64(4), object(1)\n",
      "memory usage: 677.5+ KB\n"
     ]
    }
   ],
   "source": [
    "import pandas as pd\n",
    "df.describe()\n",
    "df.info()"
   ]
  }
 ],
 "metadata": {
  "kernelspec": {
   "display_name": "Python 3",
   "language": "python",
   "name": "python3"
  },
  "language_info": {
   "codemirror_mode": {
    "name": "ipython",
    "version": 3
   },
   "file_extension": ".py",
   "mimetype": "text/x-python",
   "name": "python",
   "nbconvert_exporter": "python",
   "pygments_lexer": "ipython3",
   "version": "3.9.5"
  }
 },
 "nbformat": 4,
 "nbformat_minor": 2
}
