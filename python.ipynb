{
 "cells": [
  {
   "cell_type": "code",
   "execution_count": 5,
   "metadata": {
        "tags": [
        "collapsible"
        ]},
   "outputs": [],
   "source": [
    "import os\n",
    "os.chdir('C:/Users/Zeddrex Navarra/Desktop/Career/Trial Codes/znavarra.github.io')"
   ]
  },
  {
   "cell_type": "code",
   "execution_count": 6,
   "metadata": {},
   "outputs": [
    {
     "name": "stdout",
     "output_type": "stream",
     "text": [
      "C:\\Users\\Zeddrex Navarra\\Desktop\\Career\\Trial Codes\\znavarra.github.io\n"
     ]
    }
   ],
   "source": [
    "import os\n",
    "current_dir = os.getcwd()\n",
    "print(current_dir)"
   ]
  }
 ],
 "metadata": {
  "kernelspec": {
   "display_name": "Python 3",
   "language": "python",
   "name": "python3"
  },
  "language_info": {
   "codemirror_mode": {
    "name": "ipython",
    "version": 3
   },
   "file_extension": ".py",
   "mimetype": "text/x-python",
   "name": "python",
   "nbconvert_exporter": "python",
   "pygments_lexer": "ipython3",
   "version": "3.9.5"
  }
 },
 "nbformat": 4,
 "nbformat_minor": 2
}
